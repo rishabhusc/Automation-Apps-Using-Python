{
 "cells": [
  {
   "cell_type": "markdown",
   "metadata": {},
   "source": [
    "# LinkedIn Bot to Send REQUEST"
   ]
  },
  {
   "cell_type": "code",
   "execution_count": null,
   "metadata": {},
   "outputs": [],
   "source": [
    "\n",
    "!pip install selenium\n",
    "\n",
    "!pip install beautifulsoup4\n",
    "\n",
    "# Download Google Chrome Drive -> https://chromedriver.chromium.org/downloads\n"
   ]
  },
  {
   "cell_type": "code",
   "execution_count": null,
   "metadata": {},
   "outputs": [],
   "source": [
    "import os, random, sys, time\n",
    "# from urllib.parse import urlparse\n",
    "from selenium import webdriver\n",
    "from bs4 import BeautifulSoup"
   ]
  },
  {
   "cell_type": "code",
   "execution_count": null,
   "metadata": {},
   "outputs": [],
   "source": [
    "browser = webdriver.Chrome('/Users/rishabhkhandelwal/Documents/Automate/Bot/chromedriver')\n"
   ]
  },
  {
   "cell_type": "code",
   "execution_count": null,
   "metadata": {},
   "outputs": [],
   "source": [
    "browser.get('https://www.linkedin.com/uas/login')"
   ]
  },
  {
   "cell_type": "markdown",
   "metadata": {},
   "source": [
    "ENTER YOUR USERNAME AND PASSWORD"
   ]
  },
  {
   "cell_type": "code",
   "execution_count": null,
   "metadata": {},
   "outputs": [],
   "source": [
    "elementID = browser.find_element_by_id('username')\n",
    "elementID.send_keys(\"ENTER USERNAME\")"
   ]
  },
  {
   "cell_type": "code",
   "execution_count": null,
   "metadata": {},
   "outputs": [],
   "source": [
    "elementID = browser.find_element_by_id('password')\n",
    "elementID.send_keys(\"ENTER PASSWORD\")"
   ]
  },
  {
   "cell_type": "code",
   "execution_count": null,
   "metadata": {},
   "outputs": [],
   "source": [
    "elementID.submit()\n"
   ]
  },
  {
   "cell_type": "markdown",
   "metadata": {},
   "source": [
    "COPY YOUR LINKEDIN ID HERE"
   ]
  },
  {
   "cell_type": "code",
   "execution_count": null,
   "metadata": {},
   "outputs": [],
   "source": [
    "visitingProfileID = '/in/CHANGE YOUR ID/'\n",
    "fullLink = 'https://www.linkedin.com' + visitingProfileID\n",
    "browser.get(fullLink)"
   ]
  },
  {
   "cell_type": "code",
   "execution_count": null,
   "metadata": {},
   "outputs": [],
   "source": [
    "visitedProfiles = []\n",
    "profilesQueued = []"
   ]
  },
  {
   "cell_type": "code",
   "execution_count": null,
   "metadata": {},
   "outputs": [],
   "source": [
    "def getNewProfileIDs(soup, profilesQueued):\n",
    "    profilesID = []\n",
    "    pav = soup.find('section', {'class': 'pv-profile-section pv-browsemap-section profile-section artdeco-container-card ember-view'})\n",
    "    all_links = pav.findAll('a', {'class': 'pv-browsemap-section__member ember-view'})\n",
    "    for link in all_links:\n",
    "        userID = link.get('href')\n",
    "        if((userID not in profilesQueued) and (userID not in visitedProfiles)):\n",
    "            profilesID.append(userID)\n",
    "    return profilesID"
   ]
  },
  {
   "cell_type": "code",
   "execution_count": null,
   "metadata": {},
   "outputs": [],
   "source": [
    "getNewProfileIDs(BeautifulSoup(browser.page_source), profilesQueued)\n"
   ]
  },
  {
   "cell_type": "code",
   "execution_count": null,
   "metadata": {},
   "outputs": [],
   "source": [
    "profilesQueued = getNewProfileIDs(BeautifulSoup(browser.page_source), profilesQueued)\n"
   ]
  },
  {
   "cell_type": "code",
   "execution_count": null,
   "metadata": {},
   "outputs": [],
   "source": [
    "while profilesQueued:\n",
    "    try:\n",
    "        visitingProfileID = profilesQueued.pop()\n",
    "        visitedProfiles.append(visitingProfileID)\n",
    "        fullLink = 'https://www.linkedin.com' + visitingProfileID\n",
    "        browser.get(fullLink)\n",
    "\n",
    "        browser.find_element_by_class_name('pv-s-profile-actions').click()\n",
    "\n",
    "        browser.find_element_by_class_name('mr1').click()\n",
    "\n",
    "        customMessage = \"Hello, I have found mutual interest area and I would be more than happy to connect with you. Kindly, accept my invitation. Thanks!\"\n",
    "        elementID = browser.find_element_by_id('custom-message')\n",
    "        elementID.send_keys(customMessage)\n",
    "\n",
    "        browser.find_element_by_class_name('ml1').click()\n",
    "\n",
    "        # Add the ID to the visitedUsersFile\n",
    "        with open('visitedUsers.txt', 'a') as visitedUsersFile:\n",
    "            visitedUsersFile.write(str(visitingProfileID)+'\\n')\n",
    "        visitedUsersFile.close()\n",
    "\n",
    "        # Get new profiles ID\n",
    "        soup = BeautifulSoup(browser.page_source)\n",
    "        try: \n",
    "            profilesQueued.extend(getNewProfileIDs(soup, profilesQueued))\n",
    "        except:\n",
    "            print('Continue')\n",
    "\n",
    "        # Pause\n",
    "        time.sleep(random.uniform(3, 7)) # Otherwise, sleep to make sure everything loads\n",
    "\n",
    "        if(len(visitedProfiles)%50==0):\n",
    "            print('Visited Profiles: ', len(visitedProfiles))\n",
    "\n",
    "        if(len(profilesQueued)>100000):\n",
    "            with open('profilesQueued.txt', 'a') as visitedUsersFile:\n",
    "                visitedUsersFile.write(str(visitingProfileID)+'\\n')\n",
    "            visitedUsersFile.close()\n",
    "            print('100,000 Done!!!')\n",
    "            break;\n",
    "    except:\n",
    "        print('error')"
   ]
  }
 ],
 "metadata": {
  "kernelspec": {
   "display_name": "Python 3",
   "language": "python",
   "name": "python3"
  },
  "language_info": {
   "codemirror_mode": {
    "name": "ipython",
    "version": 3
   },
   "file_extension": ".py",
   "mimetype": "text/x-python",
   "name": "python",
   "nbconvert_exporter": "python",
   "pygments_lexer": "ipython3",
   "version": "3.7.1"
  }
 },
 "nbformat": 4,
 "nbformat_minor": 2
}
